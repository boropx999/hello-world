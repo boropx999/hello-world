{
  "nbformat": 4,
  "nbformat_minor": 0,
  "metadata": {
    "colab": {
      "name": "CIFAR10.ipynb",
      "provenance": [],
      "authorship_tag": "ABX9TyNtvITfTsuZsWPgLwOMaoSz",
      "include_colab_link": true
    },
    "kernelspec": {
      "name": "python3",
      "display_name": "Python 3"
    },
    "language_info": {
      "name": "python"
    }
  },
  "cells": [
    {
      "cell_type": "markdown",
      "metadata": {
        "id": "view-in-github",
        "colab_type": "text"
      },
      "source": [
        "<a href=\"https://colab.research.google.com/github/boropx999/hello-world/blob/main/CIFAR10.ipynb\" target=\"_parent\"><img src=\"https://colab.research.google.com/assets/colab-badge.svg\" alt=\"Open In Colab\"/></a>"
      ]
    },
    {
      "cell_type": "code",
      "execution_count": null,
      "metadata": {
        "id": "5Um2x7e2DZWd"
      },
      "outputs": [],
      "source": [
        "from keras.datasets import cifar10"
      ]
    },
    {
      "cell_type": "code",
      "source": [
        "(x_train,y_train),(x_test,y_test)=cifar10.load_data()"
      ],
      "metadata": {
        "id": "oF0lv6FUHkgZ"
      },
      "execution_count": null,
      "outputs": []
    },
    {
      "cell_type": "code",
      "source": [
        "import matplotlib.pyplot as plt\n",
        "plt.imshow(x_train[1])\n",
        "plt.show()"
      ],
      "metadata": {
        "colab": {
          "base_uri": "https://localhost:8080/",
          "height": 266
        },
        "id": "u8IUMarNHsgO",
        "outputId": "e79af584-9597-44f3-dd06-ee73488b1dd5"
      },
      "execution_count": null,
      "outputs": [
        {
          "output_type": "display_data",
          "data": {
            "text/plain": [
              "<Figure size 432x288 with 1 Axes>"
            ],
            "image/png": "[encoded data removed]"
          },
          "metadata": {
            "needs_background": "light"
          }
        }
      ]
    },
    {
      "cell_type": "code",
      "source": [
        "import numpy as np\n",
        "from keras.utils import np_utils\n",
        "x_train = x_train.reshape(50000,3072)\n",
        "x_test = x_test.reshape(10000,3072)\n",
        "x_train = x_train.astype('float32')\n",
        "x_test= x_test.astype('float32')\n",
        "x_train/= 255\n",
        "x_test /= 255\n",
        "y_train = np_utils.to_categorical(y_train,10)\n",
        "y_test = np_utils.to_categorical(y_test,10)"
      ],
      "metadata": {
        "id": "zYRqiDQVHxx5"
      },
      "execution_count": null,
      "outputs": []
    },
    {
      "cell_type": "code",
      "source": [
        "import matplotlib.pyplot as plt \n",
        "from keras.utils import np_utils\n",
        "from keras.layers import Dense,Activation,Dropout\n",
        "from keras.layers import Conv2D, MaxPooling2D\n",
        "from tensorflow.keras.layers import Conv2D\n",
        "from keras.datasets import boston_housing\n",
        "from keras.models import Sequential\n",
        "from keras.layers import Dense\n",
        "from tensorflow.keras.optimizers import RMSprop\n",
        "from keras.callbacks import EarlyStopping\n",
        "from sklearn.preprocessing import scale,StandardScaler"
      ],
      "metadata": {
        "id": "2-fsgYgeIDIg"
      },
      "execution_count": null,
      "outputs": []
    },
    {
      "cell_type": "code",
      "source": [
        "#tạo mạng nơ-ron\n",
        "model = Sequential()\n",
        "model.add(Dense(512,activation='relu',input_shape=(3072,)))\n",
        "model.add(Dropout(0.1))\n",
        "model.add(Dense(512,activation='relu'))\n",
        "model.add(Dropout(0.1))\n",
        "model.add(Dense(10,activation='softmax'))\n",
        "\n",
        "model.summary()"
      ],
      "metadata": {
        "colab": {
          "base_uri": "https://localhost:8080/"
        },
        "id": "rOOTJxVtIG3P",
        "outputId": "412b4c03-5ed2-45b2-c897-0cf49ded3ff4"
      },
      "execution_count": null,
      "outputs": [
        {
          "output_type": "stream",
          "name": "stdout",
          "text": [
            "Model: \"sequential_9\"\n",
            "_________________________________________________________________\n",
            " Layer (type)                Output Shape              Param #   \n",
            "=================================================================\n",
            " dense_29 (Dense)            (None, 512)               1573376   \n",
            "                                                                 \n",
            " dropout_20 (Dropout)        (None, 512)               0         \n",
            "                                                                 \n",
            " dense_30 (Dense)            (None, 512)               262656    \n",
            "                                                                 \n",
            " dropout_21 (Dropout)        (None, 512)               0         \n",
            "                                                                 \n",
            " dense_31 (Dense)            (None, 10)                5130      \n",
            "                                                                 \n",
            "=================================================================\n",
            "Total params: 1,841,162\n",
            "Trainable params: 1,841,162\n",
            "Non-trainable params: 0\n",
            "_________________________________________________________________\n"
          ]
        }
      ]
    },
    {
      "cell_type": "code",
      "source": [
        "model.compile(loss='categorical_crossentropy',optimizer=RMSprop(),metrics=['accuracy'])"
      ],
      "metadata": {
        "id": "zMZhPJP2IVtS"
      },
      "execution_count": null,
      "outputs": []
    },
    {
      "cell_type": "code",
      "source": [
        "history=model.fit(x_train,y_train,batch_size=128,epochs=500,verbose=1,validation_split=0.2,callbacks=[EarlyStopping(monitor='val_loss',patience = 80)])"
      ],
      "metadata": {
        "colab": {
          "base_uri": "https://localhost:8080/"
        },
        "id": "V3S00j2jIeE1",
        "outputId": "b31c5073-aa55-49a7-912e-965b1ae85f1a"
      },
      "execution_count": null,
      "outputs": [
        {
          "output_type": "stream",
          "name": "stdout",
          "text": [
            "Epoch 1/500\n",
            "313/313 [==============================] - 12s 36ms/step - loss: 2.2091 - accuracy: 0.2415 - val_loss: 1.9111 - val_accuracy: 0.3104\n",
            "Epoch 2/500\n",
            "313/313 [==============================] - 11s 36ms/step - loss: 1.8485 - accuracy: 0.3327 - val_loss: 1.7542 - val_accuracy: 0.3731\n",
            "Epoch 3/500\n",
            "313/313 [==============================] - 12s 38ms/step - loss: 1.7625 - accuracy: 0.3679 - val_loss: 1.8076 - val_accuracy: 0.3585\n",
            "Epoch 4/500\n",
            "313/313 [==============================] - 11s 36ms/step - loss: 1.7058 - accuracy: 0.3896 - val_loss: 1.7209 - val_accuracy: 0.3932\n",
            "Epoch 5/500\n",
            "313/313 [==============================] - 11s 36ms/step - loss: 1.6608 - accuracy: 0.4053 - val_loss: 1.6657 - val_accuracy: 0.4033\n",
            "Epoch 6/500\n",
            "313/313 [==============================] - 11s 36ms/step - loss: 1.6237 - accuracy: 0.4184 - val_loss: 1.6880 - val_accuracy: 0.3937\n",
            "Epoch 7/500\n",
            "313/313 [==============================] - 11s 35ms/step - loss: 1.5926 - accuracy: 0.4290 - val_loss: 1.6352 - val_accuracy: 0.4142\n",
            "Epoch 8/500\n",
            "313/313 [==============================] - 11s 36ms/step - loss: 1.5723 - accuracy: 0.4378 - val_loss: 1.6232 - val_accuracy: 0.4153\n",
            "Epoch 9/500\n",
            "313/313 [==============================] - 11s 36ms/step - loss: 1.5499 - accuracy: 0.4451 - val_loss: 1.7711 - val_accuracy: 0.3781\n",
            "Epoch 10/500\n",
            "313/313 [==============================] - 11s 36ms/step - loss: 1.5245 - accuracy: 0.4550 - val_loss: 1.6983 - val_accuracy: 0.3948\n",
            "Epoch 11/500\n",
            "313/313 [==============================] - 11s 36ms/step - loss: 1.5109 - accuracy: 0.4591 - val_loss: 1.5520 - val_accuracy: 0.4488\n",
            "Epoch 12/500\n",
            "313/313 [==============================] - 11s 36ms/step - loss: 1.4941 - accuracy: 0.4698 - val_loss: 1.6003 - val_accuracy: 0.4349\n",
            "Epoch 13/500\n",
            "313/313 [==============================] - 11s 36ms/step - loss: 1.4787 - accuracy: 0.4730 - val_loss: 1.5433 - val_accuracy: 0.4638\n",
            "Epoch 14/500\n",
            "313/313 [==============================] - 11s 36ms/step - loss: 1.4649 - accuracy: 0.4765 - val_loss: 1.5825 - val_accuracy: 0.4339\n",
            "Epoch 15/500\n",
            "313/313 [==============================] - 11s 36ms/step - loss: 1.4505 - accuracy: 0.4820 - val_loss: 1.5362 - val_accuracy: 0.4559\n",
            "Epoch 16/500\n",
            "313/313 [==============================] - 11s 36ms/step - loss: 1.4435 - accuracy: 0.4829 - val_loss: 1.5481 - val_accuracy: 0.4429\n",
            "Epoch 17/500\n",
            "313/313 [==============================] - 11s 36ms/step - loss: 1.4290 - accuracy: 0.4912 - val_loss: 1.5853 - val_accuracy: 0.4358\n",
            "Epoch 18/500\n",
            "313/313 [==============================] - 11s 36ms/step - loss: 1.4162 - accuracy: 0.4952 - val_loss: 1.5001 - val_accuracy: 0.4737\n",
            "Epoch 19/500\n",
            "313/313 [==============================] - 11s 36ms/step - loss: 1.4116 - accuracy: 0.4996 - val_loss: 1.5919 - val_accuracy: 0.4296\n",
            "Epoch 20/500\n",
            "313/313 [==============================] - 11s 36ms/step - loss: 1.4003 - accuracy: 0.5023 - val_loss: 1.6111 - val_accuracy: 0.4309\n",
            "Epoch 21/500\n",
            "313/313 [==============================] - 11s 36ms/step - loss: 1.3918 - accuracy: 0.5050 - val_loss: 1.4893 - val_accuracy: 0.4724\n",
            "Epoch 22/500\n",
            "313/313 [==============================] - 11s 36ms/step - loss: 1.3835 - accuracy: 0.5077 - val_loss: 1.5136 - val_accuracy: 0.4621\n",
            "Epoch 23/500\n",
            "313/313 [==============================] - 11s 36ms/step - loss: 1.3755 - accuracy: 0.5117 - val_loss: 1.5570 - val_accuracy: 0.4591\n",
            "Epoch 24/500\n",
            "313/313 [==============================] - 11s 36ms/step - loss: 1.3676 - accuracy: 0.5127 - val_loss: 1.4612 - val_accuracy: 0.4838\n",
            "Epoch 25/500\n",
            "313/313 [==============================] - 11s 36ms/step - loss: 1.3505 - accuracy: 0.5199 - val_loss: 1.5241 - val_accuracy: 0.4697\n",
            "Epoch 26/500\n",
            "313/313 [==============================] - 11s 36ms/step - loss: 1.3550 - accuracy: 0.5176 - val_loss: 1.5123 - val_accuracy: 0.4750\n",
            "Epoch 27/500\n",
            "313/313 [==============================] - 11s 36ms/step - loss: 1.3432 - accuracy: 0.5196 - val_loss: 1.6145 - val_accuracy: 0.4407\n",
            "Epoch 28/500\n",
            "313/313 [==============================] - 11s 36ms/step - loss: 1.3356 - accuracy: 0.5228 - val_loss: 1.5191 - val_accuracy: 0.4723\n",
            "Epoch 29/500\n",
            "313/313 [==============================] - 11s 36ms/step - loss: 1.3346 - accuracy: 0.5234 - val_loss: 1.5269 - val_accuracy: 0.4788\n",
            "Epoch 30/500\n",
            "313/313 [==============================] - 11s 36ms/step - loss: 1.3245 - accuracy: 0.5259 - val_loss: 1.5169 - val_accuracy: 0.4737\n",
            "Epoch 31/500\n",
            "313/313 [==============================] - 11s 36ms/step - loss: 1.3169 - accuracy: 0.5337 - val_loss: 1.5880 - val_accuracy: 0.4526\n",
            "Epoch 32/500\n",
            "313/313 [==============================] - 11s 36ms/step - loss: 1.3197 - accuracy: 0.5318 - val_loss: 1.4922 - val_accuracy: 0.4821\n",
            "Epoch 33/500\n",
            "313/313 [==============================] - 11s 36ms/step - loss: 1.3100 - accuracy: 0.5344 - val_loss: 1.5581 - val_accuracy: 0.4567\n",
            "Epoch 34/500\n",
            "313/313 [==============================] - 11s 36ms/step - loss: 1.3056 - accuracy: 0.5373 - val_loss: 1.5188 - val_accuracy: 0.4747\n",
            "Epoch 35/500\n",
            "313/313 [==============================] - 11s 36ms/step - loss: 1.3040 - accuracy: 0.5362 - val_loss: 1.6468 - val_accuracy: 0.4286\n",
            "Epoch 36/500\n",
            "313/313 [==============================] - 11s 36ms/step - loss: 1.2949 - accuracy: 0.5394 - val_loss: 1.4763 - val_accuracy: 0.4932\n",
            "Epoch 37/500\n",
            "313/313 [==============================] - 11s 36ms/step - loss: 1.2913 - accuracy: 0.5432 - val_loss: 1.4944 - val_accuracy: 0.4887\n",
            "Epoch 38/500\n",
            "313/313 [==============================] - 11s 36ms/step - loss: 1.2820 - accuracy: 0.5443 - val_loss: 1.4737 - val_accuracy: 0.4941\n",
            "Epoch 39/500\n",
            "313/313 [==============================] - 11s 36ms/step - loss: 1.2794 - accuracy: 0.5473 - val_loss: 1.5259 - val_accuracy: 0.4897\n",
            "Epoch 40/500\n",
            "313/313 [==============================] - 11s 36ms/step - loss: 1.2762 - accuracy: 0.5515 - val_loss: 1.4677 - val_accuracy: 0.4951\n",
            "Epoch 41/500\n",
            "313/313 [==============================] - 11s 36ms/step - loss: 1.2685 - accuracy: 0.5509 - val_loss: 1.5795 - val_accuracy: 0.4884\n",
            "Epoch 42/500\n",
            "313/313 [==============================] - 11s 36ms/step - loss: 1.2667 - accuracy: 0.5524 - val_loss: 1.4752 - val_accuracy: 0.4935\n",
            "Epoch 43/500\n",
            "313/313 [==============================] - 11s 36ms/step - loss: 1.2637 - accuracy: 0.5540 - val_loss: 1.4603 - val_accuracy: 0.5019\n",
            "Epoch 44/500\n",
            "313/313 [==============================] - 11s 36ms/step - loss: 1.2565 - accuracy: 0.5538 - val_loss: 1.4825 - val_accuracy: 0.4963\n",
            "Epoch 45/500\n",
            "313/313 [==============================] - 11s 36ms/step - loss: 1.2504 - accuracy: 0.5568 - val_loss: 1.5417 - val_accuracy: 0.4849\n",
            "Epoch 46/500\n",
            "313/313 [==============================] - 11s 36ms/step - loss: 1.2593 - accuracy: 0.5549 - val_loss: 1.4897 - val_accuracy: 0.4946\n",
            "Epoch 47/500\n",
            "313/313 [==============================] - 11s 36ms/step - loss: 1.2392 - accuracy: 0.5610 - val_loss: 1.5240 - val_accuracy: 0.4845\n",
            "Epoch 48/500\n",
            "313/313 [==============================] - 11s 36ms/step - loss: 1.2375 - accuracy: 0.5600 - val_loss: 1.6139 - val_accuracy: 0.4500\n",
            "Epoch 49/500\n",
            "313/313 [==============================] - 11s 36ms/step - loss: 1.2462 - accuracy: 0.5611 - val_loss: 1.4954 - val_accuracy: 0.4964\n",
            "Epoch 50/500\n",
            "313/313 [==============================] - 11s 36ms/step - loss: 1.2402 - accuracy: 0.5645 - val_loss: 1.5318 - val_accuracy: 0.4813\n",
            "Epoch 51/500\n",
            "313/313 [==============================] - 11s 36ms/step - loss: 1.2367 - accuracy: 0.5599 - val_loss: 1.6443 - val_accuracy: 0.4739\n",
            "Epoch 52/500\n",
            "313/313 [==============================] - 11s 36ms/step - loss: 1.2274 - accuracy: 0.5677 - val_loss: 1.5585 - val_accuracy: 0.4820\n",
            "Epoch 53/500\n",
            "313/313 [==============================] - 11s 36ms/step - loss: 1.2312 - accuracy: 0.5672 - val_loss: 1.5441 - val_accuracy: 0.4731\n",
            "Epoch 54/500\n",
            "313/313 [==============================] - 11s 36ms/step - loss: 1.2237 - accuracy: 0.5677 - val_loss: 1.5577 - val_accuracy: 0.4794\n",
            "Epoch 55/500\n",
            "313/313 [==============================] - 11s 36ms/step - loss: 1.2321 - accuracy: 0.5680 - val_loss: 1.5853 - val_accuracy: 0.4823\n",
            "Epoch 56/500\n",
            "313/313 [==============================] - 11s 36ms/step - loss: 1.2238 - accuracy: 0.5686 - val_loss: 1.6054 - val_accuracy: 0.4781\n",
            "Epoch 57/500\n",
            "313/313 [==============================] - 11s 36ms/step - loss: 1.2214 - accuracy: 0.5701 - val_loss: 1.7468 - val_accuracy: 0.4770\n",
            "Epoch 58/500\n",
            "313/313 [==============================] - 11s 36ms/step - loss: 1.2161 - accuracy: 0.5710 - val_loss: 1.5621 - val_accuracy: 0.4786\n",
            "Epoch 59/500\n",
            "313/313 [==============================] - 11s 36ms/step - loss: 1.2179 - accuracy: 0.5666 - val_loss: 1.5737 - val_accuracy: 0.4852\n",
            "Epoch 60/500\n",
            "313/313 [==============================] - 11s 36ms/step - loss: 1.2110 - accuracy: 0.5756 - val_loss: 1.5640 - val_accuracy: 0.4762\n",
            "Epoch 61/500\n",
            "313/313 [==============================] - 11s 36ms/step - loss: 1.2128 - accuracy: 0.5723 - val_loss: 1.5657 - val_accuracy: 0.4764\n",
            "Epoch 62/500\n",
            "313/313 [==============================] - 11s 36ms/step - loss: 1.2096 - accuracy: 0.5741 - val_loss: 1.6525 - val_accuracy: 0.4741\n",
            "Epoch 63/500\n",
            "313/313 [==============================] - 11s 36ms/step - loss: 1.2068 - accuracy: 0.5759 - val_loss: 1.5503 - val_accuracy: 0.4825\n",
            "Epoch 64/500\n",
            "313/313 [==============================] - 11s 36ms/step - loss: 1.2040 - accuracy: 0.5787 - val_loss: 1.5462 - val_accuracy: 0.4863\n",
            "Epoch 65/500\n",
            "313/313 [==============================] - 11s 36ms/step - loss: 1.2038 - accuracy: 0.5755 - val_loss: 1.5534 - val_accuracy: 0.4952\n",
            "Epoch 66/500\n",
            "313/313 [==============================] - 11s 36ms/step - loss: 1.1966 - accuracy: 0.5801 - val_loss: 1.5927 - val_accuracy: 0.4880\n",
            "Epoch 67/500\n",
            "313/313 [==============================] - 11s 37ms/step - loss: 1.2052 - accuracy: 0.5765 - val_loss: 1.6014 - val_accuracy: 0.4867\n",
            "Epoch 68/500\n",
            "313/313 [==============================] - 11s 36ms/step - loss: 1.1932 - accuracy: 0.5816 - val_loss: 1.7739 - val_accuracy: 0.4547\n",
            "Epoch 69/500\n",
            "313/313 [==============================] - 11s 36ms/step - loss: 1.1912 - accuracy: 0.5800 - val_loss: 1.6735 - val_accuracy: 0.4672\n",
            "Epoch 70/500\n",
            "313/313 [==============================] - 11s 36ms/step - loss: 1.1842 - accuracy: 0.5822 - val_loss: 1.6113 - val_accuracy: 0.4879\n",
            "Epoch 71/500\n",
            "313/313 [==============================] - 11s 36ms/step - loss: 1.1876 - accuracy: 0.5837 - val_loss: 1.6806 - val_accuracy: 0.4754\n",
            "Epoch 72/500\n",
            "313/313 [==============================] - 11s 36ms/step - loss: 1.1876 - accuracy: 0.5810 - val_loss: 1.6704 - val_accuracy: 0.4685\n",
            "Epoch 73/500\n",
            "313/313 [==============================] - 11s 36ms/step - loss: 1.1864 - accuracy: 0.5826 - val_loss: 1.5929 - val_accuracy: 0.4899\n",
            "Epoch 74/500\n",
            "313/313 [==============================] - 11s 36ms/step - loss: 1.1856 - accuracy: 0.5828 - val_loss: 1.5908 - val_accuracy: 0.4751\n",
            "Epoch 75/500\n",
            "313/313 [==============================] - 11s 36ms/step - loss: 1.1762 - accuracy: 0.5847 - val_loss: 1.6017 - val_accuracy: 0.4860\n",
            "Epoch 76/500\n",
            "313/313 [==============================] - 11s 36ms/step - loss: 1.1773 - accuracy: 0.5862 - val_loss: 1.6184 - val_accuracy: 0.4807\n",
            "Epoch 77/500\n",
            "313/313 [==============================] - 11s 36ms/step - loss: 1.1780 - accuracy: 0.5898 - val_loss: 1.5824 - val_accuracy: 0.4797\n",
            "Epoch 78/500\n",
            "313/313 [==============================] - 11s 36ms/step - loss: 1.1665 - accuracy: 0.5896 - val_loss: 1.6300 - val_accuracy: 0.4788\n",
            "Epoch 79/500\n",
            "313/313 [==============================] - 11s 36ms/step - loss: 1.1738 - accuracy: 0.5901 - val_loss: 1.6858 - val_accuracy: 0.4734\n",
            "Epoch 80/500\n",
            "313/313 [==============================] - 11s 36ms/step - loss: 1.1647 - accuracy: 0.5922 - val_loss: 1.7169 - val_accuracy: 0.4853\n",
            "Epoch 81/500\n",
            "313/313 [==============================] - 11s 36ms/step - loss: 1.1761 - accuracy: 0.5888 - val_loss: 1.6767 - val_accuracy: 0.4635\n",
            "Epoch 82/500\n",
            "313/313 [==============================] - 11s 36ms/step - loss: 1.1698 - accuracy: 0.5903 - val_loss: 1.5836 - val_accuracy: 0.4824\n",
            "Epoch 83/500\n",
            "313/313 [==============================] - 11s 36ms/step - loss: 1.1664 - accuracy: 0.5906 - val_loss: 1.6492 - val_accuracy: 0.4924\n",
            "Epoch 84/500\n",
            "313/313 [==============================] - 11s 36ms/step - loss: 1.1648 - accuracy: 0.5915 - val_loss: 1.5888 - val_accuracy: 0.4788\n",
            "Epoch 85/500\n",
            "313/313 [==============================] - 11s 36ms/step - loss: 1.1708 - accuracy: 0.5886 - val_loss: 1.6063 - val_accuracy: 0.4959\n",
            "Epoch 86/500\n",
            "313/313 [==============================] - 11s 36ms/step - loss: 1.1684 - accuracy: 0.5930 - val_loss: 1.5982 - val_accuracy: 0.4842\n",
            "Epoch 87/500\n",
            "313/313 [==============================] - 11s 36ms/step - loss: 1.1651 - accuracy: 0.5919 - val_loss: 1.5649 - val_accuracy: 0.4822\n",
            "Epoch 88/500\n",
            "313/313 [==============================] - 11s 36ms/step - loss: 1.1525 - accuracy: 0.5951 - val_loss: 1.7028 - val_accuracy: 0.4721\n",
            "Epoch 89/500\n",
            "313/313 [==============================] - 11s 36ms/step - loss: 1.1598 - accuracy: 0.5946 - val_loss: 1.6471 - val_accuracy: 0.4739\n",
            "Epoch 90/500\n",
            "313/313 [==============================] - 11s 36ms/step - loss: 1.1493 - accuracy: 0.5995 - val_loss: 1.5895 - val_accuracy: 0.4907\n",
            "Epoch 91/500\n",
            "313/313 [==============================] - 11s 36ms/step - loss: 1.1553 - accuracy: 0.5957 - val_loss: 1.6333 - val_accuracy: 0.4949\n",
            "Epoch 92/500\n",
            "313/313 [==============================] - 11s 36ms/step - loss: 1.1506 - accuracy: 0.5939 - val_loss: 1.6658 - val_accuracy: 0.4690\n",
            "Epoch 93/500\n",
            "313/313 [==============================] - 11s 36ms/step - loss: 1.1601 - accuracy: 0.5933 - val_loss: 1.5899 - val_accuracy: 0.4973\n",
            "Epoch 94/500\n",
            "313/313 [==============================] - 11s 37ms/step - loss: 1.1460 - accuracy: 0.5968 - val_loss: 1.7067 - val_accuracy: 0.4818\n",
            "Epoch 95/500\n",
            "313/313 [==============================] - 11s 36ms/step - loss: 1.1505 - accuracy: 0.5998 - val_loss: 1.6916 - val_accuracy: 0.4898\n",
            "Epoch 96/500\n",
            "313/313 [==============================] - 11s 36ms/step - loss: 1.1490 - accuracy: 0.5955 - val_loss: 1.6349 - val_accuracy: 0.4803\n",
            "Epoch 97/500\n",
            "313/313 [==============================] - 11s 36ms/step - loss: 1.1494 - accuracy: 0.6012 - val_loss: 1.5863 - val_accuracy: 0.4882\n",
            "Epoch 98/500\n",
            "313/313 [==============================] - 11s 36ms/step - loss: 1.1475 - accuracy: 0.5988 - val_loss: 1.7160 - val_accuracy: 0.4591\n",
            "Epoch 99/500\n",
            "313/313 [==============================] - 11s 36ms/step - loss: 1.1558 - accuracy: 0.5957 - val_loss: 1.9024 - val_accuracy: 0.4807\n",
            "Epoch 100/500\n",
            "313/313 [==============================] - 11s 36ms/step - loss: 1.1465 - accuracy: 0.6019 - val_loss: 1.6240 - val_accuracy: 0.4850\n",
            "Epoch 101/500\n",
            "313/313 [==============================] - 11s 36ms/step - loss: 1.1402 - accuracy: 0.6020 - val_loss: 1.7666 - val_accuracy: 0.4552\n",
            "Epoch 102/500\n",
            "313/313 [==============================] - 11s 36ms/step - loss: 1.1378 - accuracy: 0.6054 - val_loss: 1.6522 - val_accuracy: 0.4749\n",
            "Epoch 103/500\n",
            "313/313 [==============================] - 11s 36ms/step - loss: 1.1395 - accuracy: 0.6016 - val_loss: 1.6986 - val_accuracy: 0.4750\n",
            "Epoch 104/500\n",
            "313/313 [==============================] - 11s 36ms/step - loss: 1.1359 - accuracy: 0.6019 - val_loss: 1.6532 - val_accuracy: 0.4838\n",
            "Epoch 105/500\n",
            "313/313 [==============================] - 11s 36ms/step - loss: 1.1415 - accuracy: 0.5997 - val_loss: 1.6960 - val_accuracy: 0.4720\n",
            "Epoch 106/500\n",
            "313/313 [==============================] - 11s 36ms/step - loss: 1.1476 - accuracy: 0.6013 - val_loss: 1.6331 - val_accuracy: 0.4911\n",
            "Epoch 107/500\n",
            "313/313 [==============================] - 11s 36ms/step - loss: 1.1309 - accuracy: 0.6019 - val_loss: 1.7361 - val_accuracy: 0.4704\n",
            "Epoch 108/500\n",
            "313/313 [==============================] - 11s 36ms/step - loss: 1.1430 - accuracy: 0.6021 - val_loss: 1.8217 - val_accuracy: 0.4530\n",
            "Epoch 109/500\n",
            "313/313 [==============================] - 11s 36ms/step - loss: 1.1295 - accuracy: 0.6081 - val_loss: 1.6468 - val_accuracy: 0.4864\n",
            "Epoch 110/500\n",
            "313/313 [==============================] - 11s 36ms/step - loss: 1.1370 - accuracy: 0.6032 - val_loss: 1.6843 - val_accuracy: 0.4849\n",
            "Epoch 111/500\n",
            "313/313 [==============================] - 11s 37ms/step - loss: 1.1360 - accuracy: 0.6023 - val_loss: 1.7097 - val_accuracy: 0.4731\n",
            "Epoch 112/500\n",
            "313/313 [==============================] - 11s 36ms/step - loss: 1.1380 - accuracy: 0.6037 - val_loss: 1.6452 - val_accuracy: 0.4796\n",
            "Epoch 113/500\n",
            "313/313 [==============================] - 11s 36ms/step - loss: 1.1356 - accuracy: 0.6049 - val_loss: 1.7993 - val_accuracy: 0.4611\n",
            "Epoch 114/500\n",
            "313/313 [==============================] - 11s 36ms/step - loss: 1.1307 - accuracy: 0.6029 - val_loss: 1.6677 - val_accuracy: 0.4772\n",
            "Epoch 115/500\n",
            "313/313 [==============================] - 11s 36ms/step - loss: 1.1346 - accuracy: 0.6043 - val_loss: 1.7187 - val_accuracy: 0.4877\n",
            "Epoch 116/500\n",
            "313/313 [==============================] - 11s 36ms/step - loss: 1.1262 - accuracy: 0.6090 - val_loss: 1.9125 - val_accuracy: 0.4631\n",
            "Epoch 117/500\n",
            "313/313 [==============================] - 11s 37ms/step - loss: 1.1331 - accuracy: 0.6051 - val_loss: 1.6980 - val_accuracy: 0.4575\n",
            "Epoch 118/500\n",
            "313/313 [==============================] - 11s 36ms/step - loss: 1.1262 - accuracy: 0.6075 - val_loss: 1.7906 - val_accuracy: 0.4789\n",
            "Epoch 119/500\n",
            "313/313 [==============================] - 11s 36ms/step - loss: 1.1229 - accuracy: 0.6069 - val_loss: 1.7985 - val_accuracy: 0.4604\n",
            "Epoch 120/500\n",
            "313/313 [==============================] - 11s 37ms/step - loss: 1.1321 - accuracy: 0.6080 - val_loss: 1.7935 - val_accuracy: 0.4653\n",
            "Epoch 121/500\n",
            "313/313 [==============================] - 11s 37ms/step - loss: 1.1262 - accuracy: 0.6087 - val_loss: 1.7692 - val_accuracy: 0.4730\n",
            "Epoch 122/500\n",
            "313/313 [==============================] - 11s 36ms/step - loss: 1.1135 - accuracy: 0.6108 - val_loss: 1.7455 - val_accuracy: 0.4870\n",
            "Epoch 123/500\n",
            "313/313 [==============================] - 11s 36ms/step - loss: 1.1280 - accuracy: 0.6098 - val_loss: 1.6624 - val_accuracy: 0.4944\n"
          ]
        }
      ]
    },
    {
      "cell_type": "code",
      "source": [
        "score = model.evaluate(x_test,y_test,verbose = 0)\n",
        "print('Test lost', score[0])\n",
        "print('Test accuracy', score[1])"
      ],
      "metadata": {
        "colab": {
          "base_uri": "https://localhost:8080/"
        },
        "id": "_8b1w0tUIkzp",
        "outputId": "0124d00c-f8f1-4b3b-c86b-0ff196d469ee"
      },
      "execution_count": null,
      "outputs": [
        {
          "output_type": "stream",
          "name": "stdout",
          "text": [
            "Test lost 1.610620141029358\n",
            "Test accuracy 0.4893999993801117\n"
          ]
        }
      ]
    },
    {
      "cell_type": "code",
      "source": [
        "plt.plot(history.history['accuracy'])\n",
        "plt.plot(history.history['val_accuracy'])\n",
        "plt.title('Model accuracy')\n",
        "plt.ylabel('accuracy')\n",
        "plt.xlabel('epochs')\n",
        "plt.legend(['train','validation'])\n",
        "plt.show()"
      ],
      "metadata": {
        "colab": {
          "base_uri": "https://localhost:8080/",
          "height": 295
        },
        "id": "2510kLIherBW",
        "outputId": "0d9fb333-8bf4-4abe-d60c-435784238ed8"
      },
      "execution_count": null,
      "outputs": [
        {
          "output_type": "display_data",
          "data": {
            "text/plain": [
              "<Figure size 432x288 with 1 Axes>"
            ],
            "image/png": "[encoded data removed]"
          },
          "metadata": {
            "needs_background": "light"
          }
        }
      ]
    },
    {
      "cell_type": "code",
      "source": [
        ""
      ],
      "metadata": {
        "id": "5068B9Yaeu3s"
      },
      "execution_count": null,
      "outputs": []
    }
  ]
}